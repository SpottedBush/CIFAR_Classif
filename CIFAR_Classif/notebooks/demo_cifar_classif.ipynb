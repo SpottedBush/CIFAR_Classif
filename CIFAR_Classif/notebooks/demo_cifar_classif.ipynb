{
 "cells": [
  {
   "cell_type": "markdown",
   "metadata": {},
   "source": [
    "# CIFAR Classifier Module Demo\n",
    "*Welcome to the demo of our lib CIFAR Classifier !*\n",
    "\n",
    "A quick summary of what will be showed in this notebook :\n"
   ]
  },
  {
   "cell_type": "markdown",
   "metadata": {},
   "source": [
    "1. Imports\n",
    "2. Data loading and train/test/val separation\n",
    "3. SIFT features\n",
    "4. Features extraction\n",
    "5. Models selection\n",
    "6. CrossValidation\n",
    "7. GridSearch\n",
    "8. Show some results"
   ]
  },
  {
   "cell_type": "markdown",
   "metadata": {},
   "source": [
    "### Imports"
   ]
  },
  {
   "cell_type": "code",
   "execution_count": 1,
   "metadata": {},
   "outputs": [],
   "source": [
    "import numpy as np\n",
    "import matplotlib.pyplot as plt\n",
    "from CIFAR_Classif.data_preprocess import load_data, unpickle\n",
    "from CIFAR_Classif.generic_classifier import GenericClassifier\n",
    "from CIFAR_Classif.generic_features_extractor import GenericFeaturesExtractor\n",
    "from CIFAR_Classif.metrics import benchmark_models, benchmark_feature_extractors\n",
    "from CIFAR_Classif.bovw import get_SIFT_kp_and_desc, get_bovw_features, reduce_descs_dimensions\n",
    "from sklearn.model_selection import train_test_split\n",
    "import cv2\n",
    "from sklearn.cluster import KMeans\n"
   ]
  },
  {
   "cell_type": "markdown",
   "metadata": {},
   "source": [
    "### Data loading and train/test/val separation"
   ]
  },
  {
   "cell_type": "code",
   "execution_count": 2,
   "metadata": {},
   "outputs": [],
   "source": [
    "path_list = ['../data/cifar-10-batches-py/data_batch_5', '../data/cifar-10-batches-py/data_batch_4', '../data/cifar-10-batches-py/data_batch_3',\n",
    "             '../data/cifar-10-batches-py/data_batch_2', '../data/cifar-10-batches-py/data_batch_1']\n",
    "\n",
    "meta_path = '../data/cifar-10-batches-py/batches.meta'\n",
    "\n",
    "labels_meaning = unpickle(meta_path)[b'label_names'] # List of the labels\n",
    "\n",
    "# Load the data\n",
    "X, y = load_data(path_list, apply_preprocess=True)\n",
    "X_train, X_test, y_train, y_test = train_test_split(X, y, test_size=0.15, random_state=42) # 15% of the data for testing\n",
    "X_train, X_val, y_train, y_val = train_test_split(X_train, y_train, test_size=0.30, random_state=42) # 30% of 85% of the data for validation"
   ]
  },
  {
   "cell_type": "markdown",
   "metadata": {},
   "source": [
    "### SIFT Features"
   ]
  },
  {
   "cell_type": "markdown",
   "metadata": {},
   "source": [
    "Here we illustrate our SIFT features on a picture"
   ]
  },
  {
   "cell_type": "code",
   "execution_count": 3,
   "metadata": {},
   "outputs": [
    {
     "name": "stderr",
     "output_type": "stream",
     "text": [
      "/home/spottedbush/.virtualenvs/cifar_classif/lib/python3.10/site-packages/numpy/core/fromnumeric.py:3464: RuntimeWarning: Mean of empty slice.\n",
      "  return _methods._mean(a, axis=axis, dtype=dtype,\n",
      "/home/spottedbush/.virtualenvs/cifar_classif/lib/python3.10/site-packages/numpy/core/_methods.py:192: RuntimeWarning: invalid value encountered in divide\n",
      "  ret = ret.dtype.type(ret / rcount)\n"
     ]
    },
    {
     "data": {
      "image/png": "[encoded data removed]",
      "text/plain": [
       "<Figure size 640x480 with 2 Axes>"
      ]
     },
     "metadata": {},
     "output_type": "display_data"
    }
   ],
   "source": [
    "train_keypoints, train_descriptors = get_SIFT_kp_and_desc(X_train, dim_out=64)\n",
    "\n",
    "img = X_train[0]\n",
    "plt.subplot(1, 3, 1)\n",
    "plt.imshow(img, cmap=plt.get_cmap('gray'))\n",
    "plt.title('Tigrou (Sample image)')\n",
    "plt.axis('off')\n",
    "\n",
    "sift_kp_img = cv2.drawKeypoints(img, train_keypoints[0], 0, (255, 0, 0), flags=cv2.DRAW_MATCHES_FLAGS_DRAW_RICH_KEYPOINTS)\n",
    "plt.subplot(1, 3, 2)\n",
    "plt.imshow(sift_kp_img, cmap='gray')\n",
    "plt.title('SIFT keypoints on Tigrou')\n",
    "plt.axis('off')\n",
    "\n",
    "plt.subplots_adjust(right=1.5)\n",
    "plt.show()"
   ]
  },
  {
   "cell_type": "markdown",
   "metadata": {},
   "source": [
    "## Features extraction"
   ]
  },
  {
   "cell_type": "markdown",
   "metadata": {},
   "source": [
    "We chose to use the following feature extractors:\n",
    "- Histogram of Gradient (HoG)\n",
    "- Local Binary Pattern (LBP)\n",
    "- SIFT\n",
    "\n",
    "But using benchmark_feature_extractors we found out that only one proved to be relevant : HoG (Feature selection proved to drastically down our results so we won't enable it)"
   ]
  },
  {
   "cell_type": "code",
   "execution_count": 3,
   "metadata": {},
   "outputs": [],
   "source": [
    "hog = GenericFeaturesExtractor(\"hog\")\n",
    "\n",
    "hog_features_train = hog.extract_features(X_train, features_selection=False)\n",
    "hog_features_test = hog.extract_features(X_test, features_selection=False)"
   ]
  },
  {
   "cell_type": "markdown",
   "metadata": {},
   "source": [
    "## Models selection"
   ]
  },
  {
   "cell_type": "markdown",
   "metadata": {},
   "source": [
    "We are comparing results from three different classifiers:\n",
    "\n",
    "- SVC that is non-parametric and non linear.\n",
    "- Logistic Regression that is parametric and linear.\n",
    "- KNN that is non parametric and non linear."
   ]
  },
  {
   "cell_type": "code",
   "execution_count": 4,
   "metadata": {},
   "outputs": [
    {
     "name": "stdout",
     "output_type": "stream",
     "text": [
      "------svc------\n",
      "Accuracy: 0.502\n",
      "Classification Report:\n",
      "              precision    recall  f1-score   support\n",
      "\n",
      "           0       0.53      0.64      0.58       148\n",
      "           1       0.64      0.61      0.62       170\n",
      "           2       0.43      0.32      0.37       138\n",
      "           3       0.39      0.36      0.38       144\n",
      "           4       0.40      0.49      0.44       151\n",
      "           5       0.47      0.36      0.41       140\n",
      "           6       0.46      0.69      0.55       134\n",
      "           7       0.47      0.45      0.46       146\n",
      "           8       0.60      0.58      0.59       173\n",
      "           9       0.60      0.50      0.54       156\n",
      "\n",
      "    accuracy                           0.50      1500\n",
      "   macro avg       0.50      0.50      0.49      1500\n",
      "weighted avg       0.50      0.50      0.50      1500\n",
      "\n",
      "------logistic_regression------\n"
     ]
    },
    {
     "name": "stderr",
     "output_type": "stream",
     "text": [
      "/home/spottedbush/.virtualenvs/cifar_classif/lib/python3.10/site-packages/sklearn/linear_model/_logistic.py:1256: FutureWarning: 'multi_class' was deprecated in version 1.5 and will be removed in 1.7. Use OneVsRestClassifier(LogisticRegression(..)) instead. Leave it to its default value to avoid this warning.\n",
      "  warnings.warn(\n"
     ]
    },
    {
     "name": "stdout",
     "output_type": "stream",
     "text": [
      "Accuracy: 0.42533333333333334\n",
      "Classification Report:\n",
      "              precision    recall  f1-score   support\n",
      "\n",
      "           0       0.48      0.48      0.48       148\n",
      "           1       0.57      0.53      0.55       170\n",
      "           2       0.35      0.27      0.30       138\n",
      "           3       0.35      0.25      0.29       144\n",
      "           4       0.34      0.40      0.37       151\n",
      "           5       0.39      0.26      0.31       140\n",
      "           6       0.37      0.57      0.45       134\n",
      "           7       0.38      0.43      0.40       146\n",
      "           8       0.51      0.51      0.51       173\n",
      "           9       0.50      0.50      0.50       156\n",
      "\n",
      "    accuracy                           0.43      1500\n",
      "   macro avg       0.42      0.42      0.42      1500\n",
      "weighted avg       0.43      0.43      0.42      1500\n",
      "\n",
      "------knn------\n",
      "Accuracy: 0.2906666666666667\n",
      "Classification Report:\n",
      "              precision    recall  f1-score   support\n",
      "\n",
      "           0       0.48      0.28      0.35       148\n",
      "           1       0.56      0.39      0.46       170\n",
      "           2       0.19      0.15      0.17       138\n",
      "           3       0.28      0.11      0.16       144\n",
      "           4       0.20      0.48      0.29       151\n",
      "           5       0.26      0.14      0.19       140\n",
      "           6       0.19      0.69      0.30       134\n",
      "           7       0.45      0.20      0.28       146\n",
      "           8       0.60      0.32      0.42       173\n",
      "           9       0.41      0.13      0.20       156\n",
      "\n",
      "    accuracy                           0.29      1500\n",
      "   macro avg       0.36      0.29      0.28      1500\n",
      "weighted avg       0.37      0.29      0.29      1500\n",
      "\n"
     ]
    }
   ],
   "source": [
    "accuracy, report = benchmark_models(hog_features_train, y_train, hog_features_test, y_test, model_list=[\"svc\", \"logistic_regression\", \"knn\"])"
   ]
  },
  {
   "cell_type": "markdown",
   "metadata": {},
   "source": [
    "## CrossValidation"
   ]
  },
  {
   "cell_type": "markdown",
   "metadata": {},
   "source": [
    "Let's check that we haven't overfit our model with a CrossValidation:"
   ]
  },
  {
   "cell_type": "markdown",
   "metadata": {},
   "source": [
    "## Grid Search"
   ]
  },
  {
   "cell_type": "markdown",
   "metadata": {},
   "source": [
    "Since SVC seems to be our best model, we are going to do a GridSearch in order to know the optimal hyer-parameters"
   ]
  },
  {
   "cell_type": "code",
   "execution_count": 6,
   "metadata": {},
   "outputs": [
    {
     "name": "stdout",
     "output_type": "stream",
     "text": [
      "Best Parameters: {'C': 0.01}\n",
      "Best Score: 0.3458823529411765\n",
      "Best parameters: {'C': 0.01}, best score: 0.3458823529411765\n"
     ]
    }
   ],
   "source": [
    "# Define the parameter grid\n",
    "param_grid = {'C': [0.0001,0.001,0.01,0.1,1,10,100]}\n",
    "\n",
    "svc = GenericClassifier(kernel='svc')\n",
    "svc.set_parameters({'kernel': 'poly'})\n",
    "grid_search = svc.grid_search(param_grid, hog_features_train, y_train, verbose=True)\n",
    "\n",
    "print(f\"Best parameters: {grid_search.best_params_}, best score: {grid_search.best_score_}\")"
   ]
  }
 ],
 "metadata": {
  "kernelspec": {
   "display_name": "Python 3",
   "language": "python",
   "name": "python3"
  },
  "language_info": {
   "codemirror_mode": {
    "name": "ipython",
    "version": 3
   },
   "file_extension": ".py",
   "mimetype": "text/x-python",
   "name": "python",
   "nbconvert_exporter": "python",
   "pygments_lexer": "ipython3",
   "version": "3.10.12"
  }
 },
 "nbformat": 4,
 "nbformat_minor": 2
}
